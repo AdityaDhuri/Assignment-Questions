{
 "cells": [
  {
   "cell_type": "markdown",
   "id": "cc417381",
   "metadata": {},
   "source": [
    "### The current age (in years) of 400 clerical employees at an insurance claims processing center is normally distributed with mean µ = 38 and Standard deviation σ = 6. For each statement below, please specify True/False. If false, briefly explain why.\n",
    "A.\tMore employees at the processing center are older than 44 than between 38 and 44.\n",
    "B.\tA training program for employees under the age of 30 at the center would be expected to attract about 36 employees.\n"
   ]
  },
  {
   "cell_type": "code",
   "execution_count": 2,
   "id": "2a583fa3",
   "metadata": {},
   "outputs": [],
   "source": [
    "from scipy import stats\n",
    "from scipy.stats import norm"
   ]
  },
  {
   "cell_type": "markdown",
   "id": "bd7e949a",
   "metadata": {},
   "source": [
    "Given that ; µ = 38, σ = 6, N = 400"
   ]
  },
  {
   "cell_type": "markdown",
   "id": "b9a225d6",
   "metadata": {},
   "source": [
    "##### A] More employees at the processing center are older than 44 than between 38 and 44. "
   ]
  },
  {
   "cell_type": "markdown",
   "id": "f5e59436",
   "metadata": {},
   "source": [
    "p(X>44); Employees older than 44 yrs of age"
   ]
  },
  {
   "cell_type": "code",
   "execution_count": 3,
   "id": "0200765b",
   "metadata": {},
   "outputs": [
    {
     "data": {
      "text/plain": [
       "0.15865525393145707"
      ]
     },
     "execution_count": 3,
     "metadata": {},
     "output_type": "execute_result"
    }
   ],
   "source": [
    "1-stats.norm.cdf(44,loc=38,scale=6)"
   ]
  },
  {
   "cell_type": "markdown",
   "id": "8082faa9",
   "metadata": {},
   "source": [
    "p(38<X<44); Employees between 38 to 44 yrs of age"
   ]
  },
  {
   "cell_type": "code",
   "execution_count": 4,
   "id": "9ecdd4a0",
   "metadata": {},
   "outputs": [
    {
     "data": {
      "text/plain": [
       "0.3413447460685429"
      ]
     },
     "execution_count": 4,
     "metadata": {},
     "output_type": "execute_result"
    }
   ],
   "source": [
    "stats.norm.cdf(44,loc=38,scale=6)-(stats.norm.cdf(38,loc=38,scale=6))"
   ]
  },
  {
   "cell_type": "markdown",
   "id": "c4744d46",
   "metadata": {},
   "source": [
    "From above both statement we can conclude; statement A is False as Probability of employees aged between 38 to 44 is more."
   ]
  },
  {
   "cell_type": "markdown",
   "id": "7ecfaf37",
   "metadata": {},
   "source": [
    "##### B] A training program for employees under the age of 30 at the center would be expected to attract about 36 employees."
   ]
  },
  {
   "cell_type": "markdown",
   "id": "acf1e1e1",
   "metadata": {},
   "source": [
    "P(X<30); Employees under 30 yrs of age"
   ]
  },
  {
   "cell_type": "code",
   "execution_count": 5,
   "id": "9bc8e56d",
   "metadata": {},
   "outputs": [
    {
     "data": {
      "text/plain": [
       "0.09121121972586788"
      ]
     },
     "execution_count": 5,
     "metadata": {},
     "output_type": "execute_result"
    }
   ],
   "source": [
    "stats.norm.cdf(30,38,6)"
   ]
  },
  {
   "cell_type": "markdown",
   "id": "9880dcaf",
   "metadata": {},
   "source": [
    "No. of employees attending training program from 400 nos. is N*P(X<30)"
   ]
  },
  {
   "cell_type": "code",
   "execution_count": 6,
   "id": "f30be66b",
   "metadata": {},
   "outputs": [
    {
     "data": {
      "text/plain": [
       "36.484487890347154"
      ]
     },
     "execution_count": 6,
     "metadata": {},
     "output_type": "execute_result"
    }
   ],
   "source": [
    "400*stats.norm.cdf(30,38,6)"
   ]
  },
  {
   "cell_type": "markdown",
   "id": "6b2b9090",
   "metadata": {},
   "source": [
    " From above both statement we can conclude; statement B is True as no. of employees aged below 33 yrs attending training is 36"
   ]
  },
  {
   "cell_type": "code",
   "execution_count": null,
   "id": "8355c0bb",
   "metadata": {},
   "outputs": [],
   "source": []
  }
 ],
 "metadata": {
  "kernelspec": {
   "display_name": "Python 3",
   "language": "python",
   "name": "python3"
  },
  "language_info": {
   "codemirror_mode": {
    "name": "ipython",
    "version": 3
   },
   "file_extension": ".py",
   "mimetype": "text/x-python",
   "name": "python",
   "nbconvert_exporter": "python",
   "pygments_lexer": "ipython3",
   "version": "3.8.8"
  }
 },
 "nbformat": 4,
 "nbformat_minor": 5
}
