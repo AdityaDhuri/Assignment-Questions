{
 "cells": [
  {
   "cell_type": "markdown",
   "id": "d7f0f6f9",
   "metadata": {},
   "source": [
    "## Assi_2_Set_4_Q3"
   ]
  },
  {
   "cell_type": "raw",
   "id": "976d2f6b",
   "metadata": {},
   "source": [
    "Auditors at a small community bank randomly sample 100 withdrawal transactions made during the week at an ATM machine located near the bank’s main branch. Over the past 2 years, the average withdrawal amount has been $50 with a standard deviation of $40. Since audit investigations are typically expensive, the auditors decide to not initiate further investigations if the mean transaction amount of the sample is between $45 and $55. What is the probability that in any given week, there will be an investigation?"
   ]
  },
  {
   "cell_type": "code",
   "execution_count": 1,
   "id": "8593ae79",
   "metadata": {},
   "outputs": [],
   "source": [
    "# here mean = 50, sd = 40, n = 100\n",
    "# Standard error = 40/sqrt(100) = 4"
   ]
  },
  {
   "cell_type": "code",
   "execution_count": 2,
   "id": "ce534ebf",
   "metadata": {},
   "outputs": [],
   "source": [
    "from scipy import stats"
   ]
  },
  {
   "cell_type": "code",
   "execution_count": 3,
   "id": "a8fe1249",
   "metadata": {},
   "outputs": [
    {
     "data": {
      "text/plain": [
       "0.2112995473337107"
      ]
     },
     "execution_count": 3,
     "metadata": {},
     "output_type": "execute_result"
    }
   ],
   "source": [
    "1 -(stats.norm.cdf(55,50,4)-stats.norm.cdf(45,50,4))"
   ]
  },
  {
   "cell_type": "raw",
   "id": "39cd2968",
   "metadata": {},
   "source": [
    "i.e 21.1% (option D)"
   ]
  },
  {
   "cell_type": "code",
   "execution_count": null,
   "id": "aeaee3b4",
   "metadata": {},
   "outputs": [],
   "source": []
  }
 ],
 "metadata": {
  "kernelspec": {
   "display_name": "Python 3",
   "language": "python",
   "name": "python3"
  },
  "language_info": {
   "codemirror_mode": {
    "name": "ipython",
    "version": 3
   },
   "file_extension": ".py",
   "mimetype": "text/x-python",
   "name": "python",
   "nbconvert_exporter": "python",
   "pygments_lexer": "ipython3",
   "version": "3.8.8"
  }
 },
 "nbformat": 4,
 "nbformat_minor": 5
}
